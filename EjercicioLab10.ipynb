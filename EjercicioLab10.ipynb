{
 "cells": [
  {
   "cell_type": "code",
   "execution_count": 17,
   "metadata": {},
   "outputs": [],
   "source": [
    "import numpy as np\n",
    "import random\n",
    "import sys\n",
    "from scipy.stats import f\n",
    "from scipy.stats import norm\n",
    "\n",
    "#param = int(sys.argv[i])\n",
    "param=2\n",
    "np.random.seed(param)\n",
    "n=500 # mediciones efectuadas\n",
    "p=50 # variables medidas\n",
    "mu=0.0\n",
    "sigma=1.0\n",
    "listF=[]\n",
    "listR=[]\n",
    "listR1=[]\n",
    "for j in range(100):\n",
    "    X=np.random.normal(mu,sigma,size=(n,p))\n",
    "    Y=np.random.normal(mu,sigma,size=(n,1))\n",
    "    XT=X.T\n",
    "    YT=Y.T\n",
    "    Inv=np.linalg.inv(np.matmul(XT,X))\n",
    "    beta1=np.matmul(Inv,XT)\n",
    "    beta=np.matmul(beta1,Y)\n",
    "    Hhat=np.matmul(X,beta1)\n",
    "    Yideal=np.matmul(X,beta)\n",
    "\n",
    "    SST1=np.matmul(np.identity(n)-(1.0/n)*np.ones((n,n)),Y)\n",
    "    SST=np.matmul(YT,SST1)\n",
    "    SSR1=np.matmul(Hhat-(1.0/n)*np.ones((n,n)),Y)\n",
    "    SSR=np.matmul(YT,SSR1)\n",
    "    SSE1=np.matmul(np.identity(n)-Hhat,Y)\n",
    "    SSE=np.matmul(YT,SSE1)\n",
    "\n",
    "    Rsq=SSR[0,0]/SST[0,0]\n",
    "    listR.append(Rsq)\n",
    "\n",
    "    sigma2=SSE[0,0]/(n-1.)\n",
    "    sigmamatrix=sigma2*Inv\n",
    "    sigma_i=np.zeros(p)\n",
    "    for i in range(p):\n",
    "        sigma_i[i]=sigmamatrix[i,i]\n",
    "    sigma_i=np.sqrt(sigma_i)\n",
    "\n",
    "    MSE=SSE[0,0]/(n-p-1)\n",
    "    # Calculamos el MSR\n",
    "    MSR=SSR[0,0]/p\n",
    "    # Calculamos el MST\n",
    "    MST=SST[0,0]/(n-1)\n",
    "\n",
    "    F=(Rsq*(n-p-1))/((1-Rsq)*p)\n",
    "    listF.append(F)\n",
    "\n",
    "    Rango=0.9 # se define un rango, es decir cuanto porcentaje de la curva se quiere\n",
    "    Ftest=f.ppf(Rango,p,n-(p+1))\n",
    "    P_i=np.zeros(p)\n",
    "    if F > Ftest:\n",
    "        tzeros=beta[:,0]/sigma_i\n",
    "        P_value=2*(1-norm.cdf(tzeros)) # se integran las colas\n",
    "        for i in range(p):\n",
    "            if P_value[i]<0.5:\n",
    "                P_i[i]=1\n",
    "            else:\n",
    "                P_i[i]=0\n",
    "    else:\n",
    "        print(\"paila\")\n",
    "        #quit()\n",
    "        p_prime=np.sum(P_i)\n",
    "    F_new=np.zeros(int(p_prime))\n",
    "    \n",
    "        \n",
    "X_new=np.zeros((n,int(p_prime)))\n",
    "aux=0\n",
    "for i in range(p):\n",
    "    if P_i[i]==1:\n",
    "        X_new[:,aux]=X[:,i]\n",
    "        aux+=1\n",
    "X_newT=X_new.T\n",
    "Inv_new=np.linalg.inv(np.matmul(X_newT,X_new))\n",
    "beta1_new=np.matmul(Inv_new,X_newT)"
   ]
  },
  {
   "cell_type": "code",
   "execution_count": 14,
   "metadata": {},
   "outputs": [
    {
     "data": {
      "text/plain": [
       "[0.08109846778318373,\n",
       " 0.09167033005323251,\n",
       " 0.121880144160189,\n",
       " 0.10867439961661776,\n",
       " 0.1101294520901576,\n",
       " 0.06728861923044582,\n",
       " 0.09232973459128886,\n",
       " 0.09465499698968163,\n",
       " 0.10900120142556975,\n",
       " 0.08917545065358744,\n",
       " 0.08822411027019483,\n",
       " 0.09042454897400193,\n",
       " 0.11981382862447658,\n",
       " 0.09540994198274018,\n",
       " 0.11206772034188345,\n",
       " 0.09134096203881148,\n",
       " 0.10525833776863526,\n",
       " 0.12130573378952282,\n",
       " 0.06267122059752388,\n",
       " 0.09515294013565809,\n",
       " 0.14876676804167185,\n",
       " 0.11527863506937266,\n",
       " 0.12588204530474909,\n",
       " 0.10717333809407903,\n",
       " 0.11677358232931581,\n",
       " 0.10217475758888787,\n",
       " 0.07652044319825373,\n",
       " 0.09573858470872636,\n",
       " 0.12058092975371115,\n",
       " 0.07309840787995309,\n",
       " 0.09257914920237433,\n",
       " 0.08760990949733831,\n",
       " 0.06744164445960026,\n",
       " 0.13750309456862675,\n",
       " 0.08173374693708624,\n",
       " 0.09910829831356603,\n",
       " 0.13220737021232146,\n",
       " 0.09070531908270144,\n",
       " 0.09852359508753067,\n",
       " 0.0765418000159518,\n",
       " 0.12383350201543637,\n",
       " 0.06554350537046381,\n",
       " 0.10373740048808351,\n",
       " 0.10224902205452036,\n",
       " 0.11025113494489154,\n",
       " 0.0931976312738647,\n",
       " 0.09571531014035241,\n",
       " 0.08446944014700976,\n",
       " 0.10302945726178009,\n",
       " 0.049287221190641925,\n",
       " 0.0985770422224713,\n",
       " 0.12431209856738673,\n",
       " 0.08834067382942493,\n",
       " 0.07675495130989572,\n",
       " 0.1070762804896097,\n",
       " 0.0800090819169583,\n",
       " 0.08381522781663327,\n",
       " 0.08074399493236098,\n",
       " 0.09219116014521912,\n",
       " 0.1275002070471219,\n",
       " 0.0877024058419317,\n",
       " 0.07735587653176762,\n",
       " 0.11397078039144616,\n",
       " 0.10378236301852711,\n",
       " 0.08033654029145462,\n",
       " 0.08354075808372949,\n",
       " 0.10216119379578409,\n",
       " 0.11039154015446774,\n",
       " 0.09241769443525567,\n",
       " 0.09737367422701847,\n",
       " 0.09682666244157292,\n",
       " 0.10710698675230394,\n",
       " 0.13178052503736762,\n",
       " 0.10356759880229972,\n",
       " 0.09771465745427689,\n",
       " 0.08632442596827672,\n",
       " 0.12595479720761954,\n",
       " 0.07804361336890264,\n",
       " 0.08164030077419115,\n",
       " 0.1107731915054107,\n",
       " 0.09308566093081712,\n",
       " 0.08610933818347409,\n",
       " 0.07030345461349849,\n",
       " 0.058180375349635154,\n",
       " 0.09479774354558841,\n",
       " 0.07513099990844241,\n",
       " 0.1211318550378414,\n",
       " 0.09034111502555772,\n",
       " 0.07039585196156731,\n",
       " 0.09768849823537838,\n",
       " 0.10872938249660037,\n",
       " 0.10129187413254204,\n",
       " 0.09605671244746823,\n",
       " 0.1082498462739228,\n",
       " 0.09673369155536077,\n",
       " 0.09207697838127589,\n",
       " 0.09571066074247317,\n",
       " 0.09671651423695592,\n",
       " 0.10024968670898614,\n",
       " 0.10944004872433974]"
      ]
     },
     "execution_count": 14,
     "metadata": {},
     "output_type": "execute_result"
    }
   ],
   "source": [
    "listR"
   ]
  },
  {
   "cell_type": "code",
   "execution_count": 9,
   "metadata": {},
   "outputs": [],
   "source": [
    "np.random.seed(3)"
   ]
  },
  {
   "cell_type": "code",
   "execution_count": 15,
   "metadata": {},
   "outputs": [
    {
     "data": {
      "image/png": "[encoded data removed]",
      "text/plain": [
       "<Figure size 432x288 with 1 Axes>"
      ]
     },
     "metadata": {
      "needs_background": "light"
     },
     "output_type": "display_data"
    }
   ],
   "source": [
    "import matplotlib.pyplot as plt\n",
    "plt.figure()\n",
    "_=plt.hist(listF, bins=25)\n"
   ]
  },
  {
   "cell_type": "code",
   "execution_count": 16,
   "metadata": {},
   "outputs": [
    {
     "data": {
      "image/png": "[encoded data removed]",
      "text/plain": [
       "<Figure size 432x288 with 1 Axes>"
      ]
     },
     "metadata": {
      "needs_background": "light"
     },
     "output_type": "display_data"
    }
   ],
   "source": [
    "plt.figure()\n",
    "_=plt.hist(listR, bins=25)"
   ]
  },
  {
   "cell_type": "code",
   "execution_count": 18,
   "metadata": {},
   "outputs": [
    {
     "name": "stdout",
     "output_type": "stream",
     "text": [
      "paila\n"
     ]
    }
   ],
   "source": []
  },
  {
   "cell_type": "code",
   "execution_count": null,
   "metadata": {},
   "outputs": [],
   "source": []
  }
 ],
 "metadata": {
  "kernelspec": {
   "display_name": "Python 3",
   "language": "python",
   "name": "python3"
  },
  "language_info": {
   "codemirror_mode": {
    "name": "ipython",
    "version": 3
   },
   "file_extension": ".py",
   "mimetype": "text/x-python",
   "name": "python",
   "nbconvert_exporter": "python",
   "pygments_lexer": "ipython3",
   "version": "3.7.2"
  }
 },
 "nbformat": 4,
 "nbformat_minor": 2
}
